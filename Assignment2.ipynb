{
 "cells": [
  {
   "cell_type": "code",
   "execution_count": null,
   "id": "b70f450b-d0af-442f-9e4b-8095f63d60ba",
   "metadata": {},
   "outputs": [],
   "source": [
    "\"\"\"1.A:- There are two types of comments in python.They are: i) Single line comment, using a # at the start of the line\n",
    "         and ii) Multiline comment, where we write the comment within three single inverted commas or three double inverted commas(''' ''' or \"\"\" \"\"\") \"\"\"  "
   ]
  },
  {
   "cell_type": "code",
   "execution_count": 1,
   "id": "8155d5d6-b893-42be-a56b-b6cd817f8c17",
   "metadata": {},
   "outputs": [],
   "source": [
    "#2.A:-In Python, variables are a symbolic name that is a reference or pointer to an object.We simply write the name of the variable and then with the help of '=' we assign the value to it.Examples:-\n",
    "x = 5\n",
    "y = 'string'"
   ]
  },
  {
   "cell_type": "code",
   "execution_count": 7,
   "id": "f0858276-b925-453b-a603-08bf71011a8f",
   "metadata": {},
   "outputs": [
    {
     "data": {
      "text/plain": [
       "str"
      ]
     },
     "execution_count": 7,
     "metadata": {},
     "output_type": "execute_result"
    }
   ],
   "source": [
    "#3.A:-Data type conversion: variable name that is to be converted = Required data type(variable name that is to be converted).Example:\n",
    "x = 5\n",
    "type(x)\n",
    "x = str(x)\n",
    "type(x)"
   ]
  },
  {
   "cell_type": "code",
   "execution_count": null,
   "id": "1352165c-ac86-411c-a797-6d54c84da58b",
   "metadata": {},
   "outputs": [],
   "source": [
    "#4.A:- After downloading and installing python. We need to write the python code in any text editor and save it with an extension '.py' and in save as type select 'All files'.Then open the command prompt select the drive and the select the folder where you saved the code using 'cd' command then write 'python' and then your python file name with extension, then press enter."
   ]
  },
  {
   "cell_type": "code",
   "execution_count": 3,
   "id": "191c08e2-be4e-46c5-bf55-5c5afba74cfb",
   "metadata": {},
   "outputs": [
    {
     "name": "stdout",
     "output_type": "stream",
     "text": [
      "[2, 3]\n"
     ]
    }
   ],
   "source": [
    "#5.A:-\n",
    "my_list = [1, 2, 3, 4, 5]\n",
    "sub_list = my_list[1:3]\n",
    "print(sub_list)"
   ]
  },
  {
   "cell_type": "code",
   "execution_count": null,
   "id": "246ef9ae-4722-4fd5-a936-1133623b16f0",
   "metadata": {},
   "outputs": [],
   "source": [
    "#6.A:- Complex number is a combination of a real number and an imaginary number. A+ib is a complex number, where a,b are real numbers and i = √-1.\n",
    "x = 5 + 6j\n",
    "print(x)\n",
    "type(x)"
   ]
  },
  {
   "cell_type": "code",
   "execution_count": null,
   "id": "40f40003-6ef1-4463-a0f3-3129bb313309",
   "metadata": {},
   "outputs": [],
   "source": [
    "#7.A:-\n",
    "age = 25"
   ]
  },
  {
   "cell_type": "code",
   "execution_count": 1,
   "id": "ae1ff3a5-df9f-4bbc-99e9-a745ee57ca52",
   "metadata": {},
   "outputs": [
    {
     "data": {
      "text/plain": [
       "float"
      ]
     },
     "execution_count": 1,
     "metadata": {},
     "output_type": "execute_result"
    }
   ],
   "source": [
    "#8.A:-\n",
    "price = 9.99\n",
    "type(price)"
   ]
  },
  {
   "cell_type": "code",
   "execution_count": 2,
   "id": "84a47025-e2e2-4c81-8977-86dfbe47c045",
   "metadata": {},
   "outputs": [
    {
     "name": "stdout",
     "output_type": "stream",
     "text": [
      "Debshankar Naskar\n"
     ]
    }
   ],
   "source": [
    "#9.A:-\n",
    "name = \"Debshankar Naskar\"\n",
    "print(name)"
   ]
  },
  {
   "cell_type": "code",
   "execution_count": 8,
   "id": "3a9b9e79-fe6f-47c6-8733-47f76002e4ab",
   "metadata": {},
   "outputs": [
    {
     "name": "stdout",
     "output_type": "stream",
     "text": [
      "World\n"
     ]
    }
   ],
   "source": [
    "#10.A:-\n",
    "string = \"Hello, World!\"\n",
    "string1=string[-6:-1]\n",
    "print(string1)"
   ]
  },
  {
   "cell_type": "code",
   "execution_count": 12,
   "id": "62b675f6-40eb-4842-9181-4a51993da695",
   "metadata": {},
   "outputs": [
    {
     "name": "stdout",
     "output_type": "stream",
     "text": [
      "True\n"
     ]
    },
    {
     "data": {
      "text/plain": [
       "bool"
      ]
     },
     "execution_count": 12,
     "metadata": {},
     "output_type": "execute_result"
    }
   ],
   "source": [
    "#11.A:-is_student will be true since you are a student\n",
    "is_student = True\n",
    "print(is_student)\n",
    "type(is_student)"
   ]
  },
  {
   "cell_type": "code",
   "execution_count": null,
   "id": "b7f50d64-3648-4581-ac7e-3947ab1b3a71",
   "metadata": {},
   "outputs": [],
   "source": []
  }
 ],
 "metadata": {
  "kernelspec": {
   "display_name": "Python 3 (ipykernel)",
   "language": "python",
   "name": "python3"
  },
  "language_info": {
   "codemirror_mode": {
    "name": "ipython",
    "version": 3
   },
   "file_extension": ".py",
   "mimetype": "text/x-python",
   "name": "python",
   "nbconvert_exporter": "python",
   "pygments_lexer": "ipython3",
   "version": "3.10.8"
  }
 },
 "nbformat": 4,
 "nbformat_minor": 5
}
